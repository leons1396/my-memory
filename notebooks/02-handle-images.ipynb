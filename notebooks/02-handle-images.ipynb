{
 "cells": [
  {
   "cell_type": "code",
   "execution_count": 1,
   "metadata": {},
   "outputs": [],
   "source": [
    "from PIL import Image\n",
    "from pillow_heif import register_heif_opener\n",
    "import os\n",
    "import cv2\n",
    "import sys\n",
    "sys.path.append(\"C:/Users/Leon/Documents/programming/my-memory\")"
   ]
  },
  {
   "cell_type": "code",
   "execution_count": 8,
   "metadata": {},
   "outputs": [],
   "source": [
    "from src import secrets"
   ]
  },
  {
   "cell_type": "code",
   "execution_count": 4,
   "metadata": {},
   "outputs": [],
   "source": [
    "register_heif_opener()"
   ]
  },
  {
   "cell_type": "code",
   "execution_count": 12,
   "metadata": {},
   "outputs": [],
   "source": [
    "def convert_from_heic_to_jpg(imgs, heic_path, jpg_path):\n",
    "    for id, img in enumerate(imgs):\n",
    "        try:\n",
    "            heic_bild = Image.open(os.path.join(heic_path, img))\n",
    "            new_jpg_name = f\"img_{id}.jpg\"\n",
    "            path = os.path.join(jpg_path, new_jpg_name).replace(\"\\\\\",\"/\")\n",
    "            heic_bild.save(path, \"JPEG\")\n",
    "            #print(path)\n",
    "            #print(f\"Successfully converted from: {os.path.join(heic_path, img)} to {os.path.join(jpg_path, new_jpg_name)}\")\n",
    "\n",
    "        except Exception as e:\n",
    "            print(f\"Error due converting: {e}\")\n",
    "\n",
    "def resize_to_square(imgs, img_size):\n",
    "    resized_imgs = []\n",
    "    for img in imgs:\n",
    "        height, width = img.shape[:2]\n",
    "        a1 = width / height\n",
    "        a2 = height / width\n",
    "\n",
    "        if (a1 > a2):\n",
    "            r_img = cv2.resize(img, (round(img_size * a1), img_size), interpolation = cv2.INTER_AREA)\n",
    "            margin = int(r_img.shape[1]/6)\n",
    "            resized_img = r_img[0:img_size, margin:(margin+img_size)]\n",
    "\n",
    "        elif(a1 < a2):\n",
    "            # if height greater than width\n",
    "            r_img = cv2.resize(img, (img_size, round(img_size * a2)), interpolation = cv2.INTER_AREA)\n",
    "            margin = int(r_img.shape[0]/6)\n",
    "            resized_img = r_img[margin:(margin+img_size), 0:img_size]\n",
    "\n",
    "        elif(a1 == a2):\n",
    "            # if height and width are equal\n",
    "            r_img = cv2.resize(img, (img_size, round(img_size * a2)), interpolation = cv2.INTER_AREA)\n",
    "            resized_img = r_img[0:img_size, 0:img_size]\n",
    "\n",
    "        if(resized_img.shape[0] != img_size or resized_img.shape[1] != img_size):\n",
    "            resized_img = r_img[0:img_size, 0:img_size]\n",
    "        resized_imgs.append(resized_img)\n",
    "    \n",
    "    return resized_imgs\n",
    "\n",
    "def move_images(target, imgs):\n",
    "    for i, img in enumerate(imgs):\n",
    "        cv2.imwrite(f\"{target}/img_{i}.jpg\", img) # Store as RGB\n",
    "\n"
   ]
  },
  {
   "cell_type": "code",
   "execution_count": 8,
   "metadata": {},
   "outputs": [
    {
     "name": "stdout",
     "output_type": "stream",
     "text": [
      "Number of images:  11\n"
     ]
    }
   ],
   "source": [
    "heic_path = \"G:/Meine Ablage/Memory\"\n",
    "jpg_path = \"G:/Meine Ablage/Memory_jpg\"\n",
    "imgs = [img for img in os.listdir(heic_path)]\n",
    "print(\"Number of images: \", len(imgs))\n",
    "convert_from_heic_to_jpg(imgs, heic_path, jpg_path)"
   ]
  },
  {
   "cell_type": "code",
   "execution_count": 13,
   "metadata": {},
   "outputs": [],
   "source": [
    "imgs_jpg = [img for img in os.listdir(jpg_path)]\n",
    "# read as RGB\n",
    "imgs = [cv2.imread(os.path.join(jpg_path, img), cv2.IMREAD_COLOR) for img in imgs_jpg]\n",
    "resized_imgs = resize_to_square(imgs, 128)\n",
    "target = secrets.SECRETS[\"PATH\"][\"IMG_RESIZED\"]\n",
    "move_images(target, resized_imgs)"
   ]
  },
  {
   "cell_type": "code",
   "execution_count": null,
   "metadata": {},
   "outputs": [],
   "source": []
  },
  {
   "cell_type": "code",
   "execution_count": 4,
   "metadata": {},
   "outputs": [
    {
     "name": "stdout",
     "output_type": "stream",
     "text": [
      "img_0.jpg\n",
      "img_1.jpg\n",
      "img_10.jpg\n",
      "img_2.jpg\n",
      "img_3.jpg\n",
      "img_4.jpg\n",
      "img_5.jpg\n",
      "img_6.jpg\n",
      "img_7.jpg\n",
      "img_8.jpg\n",
      "img_9.jpg\n"
     ]
    },
    {
     "data": {
      "text/plain": [
       "[<PIL.JpegImagePlugin.JpegImageFile image mode=RGB size=128x128>,\n",
       " <PIL.JpegImagePlugin.JpegImageFile image mode=RGB size=128x128>,\n",
       " <PIL.JpegImagePlugin.JpegImageFile image mode=RGB size=128x128>,\n",
       " <PIL.JpegImagePlugin.JpegImageFile image mode=RGB size=128x128>,\n",
       " <PIL.JpegImagePlugin.JpegImageFile image mode=RGB size=128x128>,\n",
       " <PIL.JpegImagePlugin.JpegImageFile image mode=RGB size=128x128>,\n",
       " <PIL.JpegImagePlugin.JpegImageFile image mode=RGB size=128x128>,\n",
       " <PIL.JpegImagePlugin.JpegImageFile image mode=RGB size=128x128>,\n",
       " <PIL.JpegImagePlugin.JpegImageFile image mode=RGB size=128x128>,\n",
       " <PIL.JpegImagePlugin.JpegImageFile image mode=RGB size=128x128>,\n",
       " <PIL.JpegImagePlugin.JpegImageFile image mode=RGB size=128x128>]"
      ]
     },
     "execution_count": 4,
     "metadata": {},
     "output_type": "execute_result"
    }
   ],
   "source": [
    "imgs = []\n",
    "src = secrets.SECRETS[\"PATH\"][\"IMG_RESIZED\"]\n",
    "for img in os.listdir(path=secrets.SECRETS[\"PATH\"][\"IMG_RESIZED\"]):\n",
    "    print(img)\n",
    "    pil_image = Image.open(os.path.join(src, img))\n",
    "    #imgs.append(ImageTk.PhotoImage(pil_image))\n",
    "    imgs.append(pil_image)\n",
    "imgs"
   ]
  }
 ],
 "metadata": {
  "kernelspec": {
   "display_name": ".venv",
   "language": "python",
   "name": "python3"
  },
  "language_info": {
   "codemirror_mode": {
    "name": "ipython",
    "version": 3
   },
   "file_extension": ".py",
   "mimetype": "text/x-python",
   "name": "python",
   "nbconvert_exporter": "python",
   "pygments_lexer": "ipython3",
   "version": "3.10.6"
  }
 },
 "nbformat": 4,
 "nbformat_minor": 2
}
